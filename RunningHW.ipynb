{
 "cells": [
  {
   "cell_type": "code",
   "execution_count": null,
   "id": "f37d559d",
   "metadata": {},
   "outputs": [],
   "source": [
    "# Name: Phuc Tran\n",
    "# Date: February 16th, 2023"
   ]
  },
  {
   "cell_type": "code",
   "execution_count": 271,
   "id": "18de7b1c",
   "metadata": {},
   "outputs": [
    {
     "name": "stdout",
     "output_type": "stream",
     "text": [
      "Training on 32000 and validating on 6400 examples\n",
      "[1/25: tr_loss 2.115 val_loss 1.985 t_acc 30.95% val_acc 35.52%]\n",
      "[2/25: tr_loss 1.829 val_loss 1.922 t_acc 39.50% val_acc 37.66%]\n",
      "[3/25: tr_loss 1.729 val_loss 1.718 t_acc 43.21% val_acc 43.16%]\n",
      "[4/25: tr_loss 1.649 val_loss 1.753 t_acc 45.69% val_acc 43.16%]\n",
      "[5/25: tr_loss 1.602 val_loss 1.634 t_acc 47.25% val_acc 47.27%]\n",
      "[6/25: tr_loss 1.549 val_loss 1.573 t_acc 49.40% val_acc 48.34%]\n",
      "[7/25: tr_loss 1.514 val_loss 1.573 t_acc 50.53% val_acc 48.20%]\n",
      "[8/25: tr_loss 1.489 val_loss 1.634 t_acc 51.14% val_acc 47.22%]\n",
      "[9/25: tr_loss 1.451 val_loss 1.556 t_acc 52.16% val_acc 49.53%]\n",
      "[10/25: tr_loss 1.427 val_loss 1.568 t_acc 53.50% val_acc 49.12%]\n",
      "[11/25: tr_loss 1.415 val_loss 1.548 t_acc 53.76% val_acc 49.56%]\n",
      "[12/25: tr_loss 1.383 val_loss 1.527 t_acc 54.40% val_acc 50.30%]\n",
      "[13/25: tr_loss 1.369 val_loss 1.509 t_acc 55.02% val_acc 51.36%]\n",
      "[14/25: tr_loss 1.357 val_loss 1.621 t_acc 55.67% val_acc 48.06%]\n",
      "[15/25: tr_loss 1.341 val_loss 1.599 t_acc 56.00% val_acc 49.05%]\n",
      "[16/25: tr_loss 1.319 val_loss 1.469 t_acc 56.45% val_acc 52.83%]\n",
      "[17/25: tr_loss 1.31 val_loss 1.494 t_acc 56.81% val_acc 51.67%]\n",
      "[18/25: tr_loss 1.299 val_loss 1.573 t_acc 57.33% val_acc 49.84%]\n",
      "[19/25: tr_loss 1.277 val_loss 1.527 t_acc 58.10% val_acc 51.11%]\n",
      "[20/25: tr_loss 1.272 val_loss 1.55 t_acc 58.16% val_acc 50.58%]\n",
      "[21/25: tr_loss 1.155 val_loss 1.351 t_acc 62.36% val_acc 56.20%]\n",
      "[22/25: tr_loss 1.125 val_loss 1.345 t_acc 63.42% val_acc 55.91%]\n",
      "[23/25: tr_loss 1.116 val_loss 1.343 t_acc 63.76% val_acc 55.95%]\n",
      "[24/25: tr_loss 1.108 val_loss 1.341 t_acc 64.10% val_acc 56.34%]\n",
      "[25/25: tr_loss 1.103 val_loss 1.343 t_acc 64.25% val_acc 55.92%]\n",
      "Figure(1200x600)\n"
     ]
    }
   ],
   "source": [
    "!python cnn_categorization.py --model_type=\"base\""
   ]
  },
  {
   "cell_type": "code",
   "execution_count": 284,
   "id": "9dd1a2c4",
   "metadata": {},
   "outputs": [],
   "source": [
    "!python create_submission.py \"base\""
   ]
  },
  {
   "cell_type": "code",
   "execution_count": 276,
   "id": "d5aa13ae",
   "metadata": {},
   "outputs": [
    {
     "name": "stdout",
     "output_type": "stream",
     "text": [
      "Training on 53898 and validating on 22902 examples\n",
      "[1/13: tr_loss 1.97 val_loss 1.727 t_acc 35.11% val_acc 42.42%]\n",
      "[2/13: tr_loss 1.626 val_loss 1.746 t_acc 46.00% val_acc 43.23%]\n",
      "[3/13: tr_loss 1.477 val_loss 1.479 t_acc 51.35% val_acc 52.14%]\n",
      "[4/13: tr_loss 1.349 val_loss 1.43 t_acc 55.60% val_acc 53.60%]\n",
      "[5/13: tr_loss 1.264 val_loss 1.35 t_acc 58.47% val_acc 56.73%]\n",
      "[6/13: tr_loss 1.192 val_loss 1.499 t_acc 60.72% val_acc 53.20%]\n",
      "[7/13: tr_loss 1.132 val_loss 1.305 t_acc 62.71% val_acc 58.56%]\n",
      "[8/13: tr_loss 1.073 val_loss 1.253 t_acc 64.76% val_acc 59.27%]\n",
      "[9/13: tr_loss 1.035 val_loss 1.233 t_acc 65.76% val_acc 60.30%]\n",
      "[10/13: tr_loss 0.9834 val_loss 1.273 t_acc 67.60% val_acc 60.50%]\n",
      "[11/13: tr_loss 0.8155 val_loss 1.037 t_acc 73.47% val_acc 65.78%]\n",
      "[12/13: tr_loss 0.7766 val_loss 1.039 t_acc 74.67% val_acc 65.99%]\n",
      "[13/13: tr_loss 0.7554 val_loss 1.037 t_acc 75.40% val_acc 66.17%]\n",
      "Figure(1200x600)\n"
     ]
    }
   ],
   "source": [
    "!python cnn_categorization.py --model_type=\"improved\" --contrast_normalization=True --whiten=True --data_augmentation=True"
   ]
  },
  {
   "cell_type": "code",
   "execution_count": 283,
   "id": "b5ff3e07",
   "metadata": {},
   "outputs": [],
   "source": [
    "!python create_submission_mod.py \"improved\" --contrast_normalization=True --whiten=True --data_augmentation=True"
   ]
  }
 ],
 "metadata": {
  "kernelspec": {
   "display_name": "Python 3 (ipykernel)",
   "language": "python",
   "name": "python3"
  },
  "language_info": {
   "codemirror_mode": {
    "name": "ipython",
    "version": 3
   },
   "file_extension": ".py",
   "mimetype": "text/x-python",
   "name": "python",
   "nbconvert_exporter": "python",
   "pygments_lexer": "ipython3",
   "version": "3.10.8"
  }
 },
 "nbformat": 4,
 "nbformat_minor": 5
}
