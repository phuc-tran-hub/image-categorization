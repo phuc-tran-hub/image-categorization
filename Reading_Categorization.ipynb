{
 "cells": [
  {
   "cell_type": "code",
   "execution_count": 2,
   "id": "52a706e3",
   "metadata": {},
   "outputs": [],
   "source": [
    "import torch"
   ]
  },
  {
   "cell_type": "code",
   "execution_count": 14,
   "id": "a7529c7a",
   "metadata": {},
   "outputs": [
    {
     "name": "stdout",
     "output_type": "stream",
     "text": [
      "tensor([[2.7961e-03, 5.3236e-01, 7.9202e-02,  ..., 2.3234e-03, 6.4246e-03,\n",
      "         1.1875e-03],\n",
      "        [1.8974e-01, 3.7520e-01, 6.4348e-03,  ..., 1.7625e-03, 5.9408e-03,\n",
      "         1.1419e-05],\n",
      "        [6.9176e-06, 4.7165e-04, 4.9351e-04,  ..., 5.8448e-06, 5.2697e-03,\n",
      "         3.8029e-05],\n",
      "        ...,\n",
      "        [5.2974e-05, 2.4310e-03, 1.2466e-01,  ..., 5.8303e-05, 7.3924e-04,\n",
      "         3.6700e-03],\n",
      "        [1.0262e-08, 4.3241e-07, 3.2530e-06,  ..., 5.1892e-07, 9.9944e-01,\n",
      "         1.5442e-06],\n",
      "        [1.1307e-01, 2.3408e-02, 1.1317e-01,  ..., 4.8262e-03, 7.7062e-04,\n",
      "         6.0755e-05]], requires_grad=True)\n"
     ]
    }
   ],
   "source": [
    "validation1 = torch.load(\"improved_categorization/improved_validation.pt\")\n",
    "print(validation)\n",
    "validation2 = torch.load(\"improved_validation.pt\")\n",
    "print(validation)"
   ]
  }
 ],
 "metadata": {
  "kernelspec": {
   "display_name": "Python 3 (ipykernel)",
   "language": "python",
   "name": "python3"
  },
  "language_info": {
   "codemirror_mode": {
    "name": "ipython",
    "version": 3
   },
   "file_extension": ".py",
   "mimetype": "text/x-python",
   "name": "python",
   "nbconvert_exporter": "python",
   "pygments_lexer": "ipython3",
   "version": "3.10.8"
  }
 },
 "nbformat": 4,
 "nbformat_minor": 5
}
